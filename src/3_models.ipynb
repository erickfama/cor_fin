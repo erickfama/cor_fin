{
 "cells": [
  {
   "cell_type": "code",
   "execution_count": 46,
   "metadata": {},
   "outputs": [],
   "source": [
    "# Librerías \n",
    "import pandas as pd\n",
    "import polars as pl\n",
    "import numpy as np\n",
    "from statistics import mean\n",
    "from sklearn.model_selection import train_test_split, RandomizedSearchCV, KFold\n",
    "from sklearn.preprocessing import MinMaxScaler\n",
    "from sklearn.ensemble import RandomForestClassifier\n",
    "from sklearn.svm import SVC\n",
    "from sklearn.linear_model import LogisticRegression\n",
    "from sklearn.metrics import accuracy_score, classification_report\n",
    "from pprint import pprint\n",
    "import pickle"
   ]
  },
  {
   "cell_type": "code",
   "execution_count": 2,
   "metadata": {},
   "outputs": [],
   "source": [
    "# Lectura \n",
    "encig19_inc_raw = pd.read_csv(\"../data/2_interim/encig19_inc_clean.csv\", encoding = \"latin1\")\n",
    "variables_contextuales = pd.read_csv(\"../data/3_final/indicadores_fs.csv\", encoding = \"utf-8\")"
   ]
  },
  {
   "cell_type": "code",
   "execution_count": 3,
   "metadata": {},
   "outputs": [
    {
     "data": {
      "text/plain": [
       "(255, 6)"
      ]
     },
     "execution_count": 3,
     "metadata": {},
     "output_type": "execute_result"
    }
   ],
   "source": [
    "# Vista de los DFs \n",
    "encig19_inc_raw.head()\n",
    "encig19_inc_raw.shape"
   ]
  },
  {
   "cell_type": "code",
   "execution_count": 4,
   "metadata": {},
   "outputs": [
    {
     "data": {
      "text/html": [
       "<div>\n",
       "<style scoped>\n",
       "    .dataframe tbody tr th:only-of-type {\n",
       "        vertical-align: middle;\n",
       "    }\n",
       "\n",
       "    .dataframe tbody tr th {\n",
       "        vertical-align: top;\n",
       "    }\n",
       "\n",
       "    .dataframe thead th {\n",
       "        text-align: right;\n",
       "    }\n",
       "</style>\n",
       "<table border=\"1\" class=\"dataframe\">\n",
       "  <thead>\n",
       "    <tr style=\"text-align: right;\">\n",
       "      <th></th>\n",
       "      <th>nom_ent</th>\n",
       "      <th>nom_mun</th>\n",
       "      <th>mun_inegi</th>\n",
       "      <th>anio</th>\n",
       "      <th>pobtot</th>\n",
       "      <th>cs_revenue_perCapita</th>\n",
       "      <th>cs_total_general_fund</th>\n",
       "      <th>cs_intergov_revs_total_revs</th>\n",
       "      <th>cs_propety_tax_total_revs</th>\n",
       "      <th>bs_operating_exp</th>\n",
       "      <th>...</th>\n",
       "      <th>egresos_inversiones_financieras_y_otras_provisiones</th>\n",
       "      <th>prop_corrup_per17</th>\n",
       "      <th>prop_corrup_inc17</th>\n",
       "      <th>prop_corrup5_inc17</th>\n",
       "      <th>prop_corrup_per19</th>\n",
       "      <th>prop_corrup_inc19</th>\n",
       "      <th>prop_corrup5_inc19</th>\n",
       "      <th>prop_corrup_per21</th>\n",
       "      <th>prop_corrup_inc21</th>\n",
       "      <th>prop_corrup5_inc21</th>\n",
       "    </tr>\n",
       "  </thead>\n",
       "  <tbody>\n",
       "    <tr>\n",
       "      <th>0</th>\n",
       "      <td>Aguascalientes</td>\n",
       "      <td>Aguascalientes</td>\n",
       "      <td>1001</td>\n",
       "      <td>2018</td>\n",
       "      <td>948990</td>\n",
       "      <td>3845.651965</td>\n",
       "      <td>0.332662</td>\n",
       "      <td>0.606587</td>\n",
       "      <td>0.121541</td>\n",
       "      <td>0.713073</td>\n",
       "      <td>...</td>\n",
       "      <td>0</td>\n",
       "      <td>34.710836</td>\n",
       "      <td>12.990008</td>\n",
       "      <td>14.104639</td>\n",
       "      <td>NaN</td>\n",
       "      <td>NaN</td>\n",
       "      <td>NaN</td>\n",
       "      <td>NaN</td>\n",
       "      <td>NaN</td>\n",
       "      <td>NaN</td>\n",
       "    </tr>\n",
       "    <tr>\n",
       "      <th>1</th>\n",
       "      <td>Aguascalientes</td>\n",
       "      <td>Asientos</td>\n",
       "      <td>1002</td>\n",
       "      <td>2018</td>\n",
       "      <td>51536</td>\n",
       "      <td>3608.715888</td>\n",
       "      <td>0.063044</td>\n",
       "      <td>0.337801</td>\n",
       "      <td>0.021163</td>\n",
       "      <td>0.218249</td>\n",
       "      <td>...</td>\n",
       "      <td>0</td>\n",
       "      <td>NaN</td>\n",
       "      <td>NaN</td>\n",
       "      <td>NaN</td>\n",
       "      <td>NaN</td>\n",
       "      <td>NaN</td>\n",
       "      <td>NaN</td>\n",
       "      <td>NaN</td>\n",
       "      <td>NaN</td>\n",
       "      <td>NaN</td>\n",
       "    </tr>\n",
       "    <tr>\n",
       "      <th>2</th>\n",
       "      <td>Aguascalientes</td>\n",
       "      <td>Calvillo</td>\n",
       "      <td>1003</td>\n",
       "      <td>2018</td>\n",
       "      <td>58250</td>\n",
       "      <td>6231.560086</td>\n",
       "      <td>0.115889</td>\n",
       "      <td>2.429067</td>\n",
       "      <td>0.031448</td>\n",
       "      <td>1.500763</td>\n",
       "      <td>...</td>\n",
       "      <td>0</td>\n",
       "      <td>NaN</td>\n",
       "      <td>NaN</td>\n",
       "      <td>NaN</td>\n",
       "      <td>NaN</td>\n",
       "      <td>NaN</td>\n",
       "      <td>NaN</td>\n",
       "      <td>NaN</td>\n",
       "      <td>NaN</td>\n",
       "      <td>NaN</td>\n",
       "    </tr>\n",
       "    <tr>\n",
       "      <th>3</th>\n",
       "      <td>Aguascalientes</td>\n",
       "      <td>Cosío</td>\n",
       "      <td>1004</td>\n",
       "      <td>2018</td>\n",
       "      <td>17000</td>\n",
       "      <td>7270.570529</td>\n",
       "      <td>0.047614</td>\n",
       "      <td>0.027078</td>\n",
       "      <td>0.009705</td>\n",
       "      <td>0.017147</td>\n",
       "      <td>...</td>\n",
       "      <td>0</td>\n",
       "      <td>NaN</td>\n",
       "      <td>NaN</td>\n",
       "      <td>NaN</td>\n",
       "      <td>NaN</td>\n",
       "      <td>NaN</td>\n",
       "      <td>NaN</td>\n",
       "      <td>NaN</td>\n",
       "      <td>NaN</td>\n",
       "      <td>NaN</td>\n",
       "    </tr>\n",
       "    <tr>\n",
       "      <th>4</th>\n",
       "      <td>Aguascalientes</td>\n",
       "      <td>Jesús María</td>\n",
       "      <td>1005</td>\n",
       "      <td>2018</td>\n",
       "      <td>129929</td>\n",
       "      <td>3913.122729</td>\n",
       "      <td>0.351805</td>\n",
       "      <td>0.481168</td>\n",
       "      <td>0.198061</td>\n",
       "      <td>0.593563</td>\n",
       "      <td>...</td>\n",
       "      <td>0</td>\n",
       "      <td>46.724076</td>\n",
       "      <td>4.166667</td>\n",
       "      <td>7.569346</td>\n",
       "      <td>NaN</td>\n",
       "      <td>NaN</td>\n",
       "      <td>NaN</td>\n",
       "      <td>NaN</td>\n",
       "      <td>NaN</td>\n",
       "      <td>NaN</td>\n",
       "    </tr>\n",
       "  </tbody>\n",
       "</table>\n",
       "<p>5 rows × 65 columns</p>\n",
       "</div>"
      ],
      "text/plain": [
       "          nom_ent         nom_mun  mun_inegi  anio  pobtot  \\\n",
       "0  Aguascalientes  Aguascalientes       1001  2018  948990   \n",
       "1  Aguascalientes        Asientos       1002  2018   51536   \n",
       "2  Aguascalientes        Calvillo       1003  2018   58250   \n",
       "3  Aguascalientes           Cosío       1004  2018   17000   \n",
       "4  Aguascalientes     Jesús María       1005  2018  129929   \n",
       "\n",
       "   cs_revenue_perCapita  cs_total_general_fund  cs_intergov_revs_total_revs  \\\n",
       "0           3845.651965               0.332662                     0.606587   \n",
       "1           3608.715888               0.063044                     0.337801   \n",
       "2           6231.560086               0.115889                     2.429067   \n",
       "3           7270.570529               0.047614                     0.027078   \n",
       "4           3913.122729               0.351805                     0.481168   \n",
       "\n",
       "   cs_propety_tax_total_revs  bs_operating_exp  ...  \\\n",
       "0                   0.121541          0.713073  ...   \n",
       "1                   0.021163          0.218249  ...   \n",
       "2                   0.031448          1.500763  ...   \n",
       "3                   0.009705          0.017147  ...   \n",
       "4                   0.198061          0.593563  ...   \n",
       "\n",
       "   egresos_inversiones_financieras_y_otras_provisiones  prop_corrup_per17  \\\n",
       "0                                                  0            34.710836   \n",
       "1                                                  0                  NaN   \n",
       "2                                                  0                  NaN   \n",
       "3                                                  0                  NaN   \n",
       "4                                                  0            46.724076   \n",
       "\n",
       "   prop_corrup_inc17  prop_corrup5_inc17 prop_corrup_per19  prop_corrup_inc19  \\\n",
       "0          12.990008           14.104639               NaN                NaN   \n",
       "1                NaN                 NaN               NaN                NaN   \n",
       "2                NaN                 NaN               NaN                NaN   \n",
       "3                NaN                 NaN               NaN                NaN   \n",
       "4           4.166667            7.569346               NaN                NaN   \n",
       "\n",
       "   prop_corrup5_inc19  prop_corrup_per21  prop_corrup_inc21  \\\n",
       "0                 NaN                NaN                NaN   \n",
       "1                 NaN                NaN                NaN   \n",
       "2                 NaN                NaN                NaN   \n",
       "3                 NaN                NaN                NaN   \n",
       "4                 NaN                NaN                NaN   \n",
       "\n",
       "   prop_corrup5_inc21  \n",
       "0                 NaN  \n",
       "1                 NaN  \n",
       "2                 NaN  \n",
       "3                 NaN  \n",
       "4                 NaN  \n",
       "\n",
       "[5 rows x 65 columns]"
      ]
     },
     "execution_count": 4,
     "metadata": {},
     "output_type": "execute_result"
    }
   ],
   "source": [
    "variables_contextuales.head()"
   ]
  },
  {
   "cell_type": "code",
   "execution_count": 5,
   "metadata": {},
   "outputs": [
    {
     "data": {
      "text/plain": [
       "(255, 8)"
      ]
     },
     "execution_count": 5,
     "metadata": {},
     "output_type": "execute_result"
    }
   ],
   "source": [
    "# Limpieza\n",
    "\n",
    "# Se delimitan las variables contextuales al año 2019\n",
    "variables_contextuales19 = variables_contextuales[variables_contextuales.anio == 2019]\n",
    "\n",
    "# Se crea el indicador de corrupcion\n",
    "encig19_inc_clean = encig19_inc_raw\n",
    "encig19_inc_clean[\"mean_corrup19\"] = encig19_inc_clean.prop_corrup_inc19.mean()\n",
    "encig19_inc_clean[\"corrup\"] = np.where(encig19_inc_clean.prop_corrup_inc19 > encig19_inc_clean.prop_corrup_inc19.mean(), 1, 0)\n",
    "encig19_inc_clean.head()\n",
    "encig19_inc_clean.shape"
   ]
  },
  {
   "cell_type": "code",
   "execution_count": 6,
   "metadata": {},
   "outputs": [
    {
     "data": {
      "text/plain": [
       "Index(['mun_inegi', 'anio_x', 'nom_ent_x', 'nom_mun_x', 'prop_corrup_inc19_x',\n",
       "       'prop_corrup5_inc19_x', 'mean_corrup19', 'corrup', 'nom_ent_y',\n",
       "       'nom_mun_y', 'anio_y', 'pobtot', 'cs_revenue_perCapita',\n",
       "       'cs_total_general_fund', 'cs_intergov_revs_total_revs',\n",
       "       'cs_propety_tax_total_revs', 'bs_operating_exp', 'bs_operating_balance',\n",
       "       'bs_expenditure_perCapita', 'lrs_direct_long_term_debt_pobtot',\n",
       "       'lrs_debt_service_total_rev', 'mun_tipo', 'graproes', 'pea', 'pe_inac',\n",
       "       'pocupada', 'pdesocup', 'psinder', 'pder_ss', 'analf', 'sbasc', 'ovsde',\n",
       "       'ovsee', 'ovsae', 'ovpt', 'vhac', 'pl.5000', 'po2sm', 'im_2020',\n",
       "       'gm_2020', 'imn_2020', 'egresos_total_de_egresos',\n",
       "       'egresos_servicios_personales', 'egresos_materiales_y_suministros',\n",
       "       'egresos_servicios_generales',\n",
       "       'egresos_transferencias_asignaciones_subsidios_y_otras_ayudas',\n",
       "       'egresos_bienes_muebles_inmuebles_e_intangibles',\n",
       "       'egresos_inversion_publica', 'egresos_deuda_publica',\n",
       "       'ingresos_total_de_ingresos', 'ingresos_impuestos',\n",
       "       'ingresos_contribuciones_de_mejoras', 'ingresos_derechos',\n",
       "       'ingresos_productos', 'ingresos_aprovechamientos',\n",
       "       'ingresos_participaciones_federales',\n",
       "       'ingresos_aportaciones_federales_y_estatales',\n",
       "       'ingresos_financiamiento', 'egresos_disponibilidad_final',\n",
       "       'egresos_otros_egresos', 'ingresos_otros_ingresos',\n",
       "       'ingresos_disponibilidad_inicial',\n",
       "       'egresos_inversiones_financieras_y_otras_provisiones',\n",
       "       'prop_corrup_per17', 'prop_corrup_inc17', 'prop_corrup5_inc17',\n",
       "       'prop_corrup_per19', 'prop_corrup_inc19_y', 'prop_corrup5_inc19_y',\n",
       "       'prop_corrup_per21', 'prop_corrup_inc21', 'prop_corrup5_inc21'],\n",
       "      dtype='object')"
      ]
     },
     "execution_count": 6,
     "metadata": {},
     "output_type": "execute_result"
    }
   ],
   "source": [
    "# Se crea un DF con la proporcion de corrupcion\n",
    "efipem19_corr_raw = pd.merge(encig19_inc_clean, variables_contextuales19, on = \"mun_inegi\", how = \"left\")\n",
    "efipem19_corr_raw.columns"
   ]
  },
  {
   "cell_type": "code",
   "execution_count": 9,
   "metadata": {},
   "outputs": [
    {
     "name": "stdout",
     "output_type": "stream",
     "text": [
      "mun_inegi - 0\n",
      "anio_x - 0\n",
      "nom_ent_x - 0\n",
      "nom_mun_x - 0\n",
      "prop_corrup_inc19_x - 0\n",
      "prop_corrup5_inc19_x - 1\n",
      "mean_corrup19 - 0\n",
      "corrup - 0\n",
      "nom_ent_y - 22\n",
      "nom_mun_y - 22\n",
      "anio_y - 22\n",
      "pobtot - 22\n",
      "cs_revenue_perCapita - 22\n",
      "cs_total_general_fund - 22\n",
      "cs_intergov_revs_total_revs - 22\n",
      "cs_propety_tax_total_revs - 36\n",
      "bs_operating_exp - 22\n",
      "bs_operating_balance - 22\n",
      "bs_expenditure_perCapita - 22\n",
      "lrs_direct_long_term_debt_pobtot - 83\n",
      "lrs_debt_service_total_rev - 83\n",
      "mun_tipo - 22\n",
      "graproes - 22\n",
      "pea - 22\n",
      "pe_inac - 22\n",
      "pocupada - 22\n",
      "pdesocup - 22\n",
      "psinder - 22\n",
      "pder_ss - 22\n",
      "analf - 22\n",
      "sbasc - 22\n",
      "ovsde - 22\n",
      "ovsee - 22\n",
      "ovsae - 22\n",
      "ovpt - 22\n",
      "vhac - 22\n",
      "pl.5000 - 22\n",
      "po2sm - 22\n",
      "im_2020 - 22\n",
      "gm_2020 - 22\n",
      "imn_2020 - 22\n",
      "egresos_total_de_egresos - 22\n",
      "egresos_servicios_personales - 22\n",
      "egresos_materiales_y_suministros - 22\n",
      "egresos_servicios_generales - 22\n",
      "egresos_transferencias_asignaciones_subsidios_y_otras_ayudas - 22\n",
      "egresos_bienes_muebles_inmuebles_e_intangibles - 22\n",
      "egresos_inversion_publica - 22\n",
      "egresos_deuda_publica - 22\n",
      "ingresos_total_de_ingresos - 22\n",
      "ingresos_impuestos - 22\n",
      "ingresos_contribuciones_de_mejoras - 22\n",
      "ingresos_derechos - 22\n",
      "ingresos_productos - 22\n",
      "ingresos_aprovechamientos - 22\n",
      "ingresos_participaciones_federales - 22\n",
      "ingresos_aportaciones_federales_y_estatales - 22\n",
      "ingresos_financiamiento - 22\n",
      "egresos_disponibilidad_final - 22\n",
      "egresos_otros_egresos - 22\n",
      "ingresos_otros_ingresos - 22\n",
      "ingresos_disponibilidad_inicial - 22\n",
      "egresos_inversiones_financieras_y_otras_provisiones - 22\n",
      "prop_corrup_per17 - 255\n",
      "prop_corrup_inc17 - 255\n",
      "prop_corrup5_inc17 - 255\n",
      "prop_corrup_per19 - 22\n",
      "prop_corrup_inc19_y - 22\n",
      "prop_corrup5_inc19_y - 23\n",
      "prop_corrup_per21 - 255\n",
      "prop_corrup_inc21 - 255\n",
      "prop_corrup5_inc21 - 255\n"
     ]
    }
   ],
   "source": [
    "# Se verifica por NAs\n",
    "for col in pl.DataFrame(efipem19_corr_raw).get_columns():\n",
    "    print(f'{col.name} - {col.is_null().sum()}') # Ya no hay NAs"
   ]
  },
  {
   "cell_type": "code",
   "execution_count": 12,
   "metadata": {},
   "outputs": [
    {
     "data": {
      "text/html": [
       "<div><style>\n",
       ".dataframe > thead > tr > th,\n",
       ".dataframe > tbody > tr > td {\n",
       "  text-align: right;\n",
       "}\n",
       "</style>\n",
       "<small>shape: (255, 47)</small><table border=\"1\" class=\"dataframe\"><thead><tr><th>mun_inegi</th><th>nom_ent_x</th><th>nom_mun_x</th><th>mun_tipo_metropolitano</th><th>mun_tipo_rural</th><th>mun_tipo_transición_rural-urbano</th><th>mun_tipo_urbano</th><th>graproes</th><th>pea</th><th>pe_inac</th><th>pocupada</th><th>pdesocup</th><th>psinder</th><th>pder_ss</th><th>analf</th><th>sbasc</th><th>ovsde</th><th>ovsee</th><th>ovsae</th><th>ovpt</th><th>vhac</th><th>pl.5000</th><th>po2sm</th><th>im_2020</th><th>egresos_total_de_egresos</th><th>egresos_servicios_personales</th><th>egresos_materiales_y_suministros</th><th>egresos_servicios_generales</th><th>egresos_transferencias_asignaciones_subsidios_y_otras_ayudas</th><th>egresos_bienes_muebles_inmuebles_e_intangibles</th><th>egresos_inversion_publica</th><th>egresos_deuda_publica</th><th>ingresos_total_de_ingresos</th><th>ingresos_impuestos</th><th>ingresos_contribuciones_de_mejoras</th><th>ingresos_derechos</th><th>ingresos_productos</th><th>ingresos_aprovechamientos</th><th>ingresos_participaciones_federales</th><th>ingresos_aportaciones_federales_y_estatales</th><th>ingresos_financiamiento</th><th>egresos_disponibilidad_final</th><th>egresos_otros_egresos</th><th>ingresos_otros_ingresos</th><th>ingresos_disponibilidad_inicial</th><th>egresos_inversiones_financieras_y_otras_provisiones</th><th>corrup</th></tr><tr><td>i64</td><td>str</td><td>str</td><td>u8</td><td>u8</td><td>u8</td><td>u8</td><td>f64</td><td>f64</td><td>f64</td><td>f64</td><td>f64</td><td>f64</td><td>f64</td><td>f64</td><td>f64</td><td>f64</td><td>f64</td><td>f64</td><td>f64</td><td>f64</td><td>f64</td><td>f64</td><td>f64</td><td>f64</td><td>f64</td><td>f64</td><td>f64</td><td>f64</td><td>f64</td><td>f64</td><td>f64</td><td>f64</td><td>f64</td><td>f64</td><td>f64</td><td>f64</td><td>f64</td><td>f64</td><td>f64</td><td>f64</td><td>f64</td><td>f64</td><td>f64</td><td>f64</td><td>f64</td><td>i32</td></tr></thead><tbody><tr><td>1001</td><td>&quot;Aguascalientes...</td><td>&quot;Aguascalientes...</td><td>1</td><td>0</td><td>0</td><td>0</td><td>10.84</td><td>486675.0</td><td>269195.0</td><td>476502.0</td><td>10173.0</td><td>173199.0</td><td>774363.0</td><td>1.644738</td><td>20.36722</td><td>0.104799</td><td>0.113169</td><td>0.37861</td><td>0.591434</td><td>10.33953</td><td>7.523683</td><td>54.226594</td><td>60.318795</td><td>3.5741e9</td><td>1.5872e9</td><td>6.1592189e8</td><td>5.81511256e8</td><td>4.87114758e8</td><td>3.1274269e7</td><td>1.95502027e8</td><td>7.5553581e7</td><td>3.5741e9</td><td>5.31295259e8</td><td>135340.0</td><td>6.40793344e8</td><td>5.570778e6</td><td>4.2059037e7</td><td>1.4938e9</td><td>7.74585855e8</td><td>8.5844402e7</td><td>0.0</td><td>0.0</td><td>0.0</td><td>0.0</td><td>0.0</td><td>1</td></tr><tr><td>1005</td><td>&quot;Aguascalientes...</td><td>&quot;Jesús María&quot;</td><td>0</td><td>0</td><td>0</td><td>1</td><td>10.22</td><td>65839.0</td><td>33247.0</td><td>64945.0</td><td>894.0</td><td>27299.0</td><td>102428.0</td><td>2.380588</td><td>26.692477</td><td>0.277034</td><td>0.354957</td><td>0.860426</td><td>1.312652</td><td>16.404575</td><td>37.164143</td><td>56.748753</td><td>59.011762</td><td>4.93812771e8</td><td>2.93205233e8</td><td>3.8786739e7</td><td>7.1202044e7</td><td>4.0418053e7</td><td>6.240976e6</td><td>2.7401471e7</td><td>9.05315e6</td><td>4.93812771e8</td><td>1.11248243e8</td><td>246385.0</td><td>5.4634723e7</td><td>2.514085e6</td><td>3.135603e6</td><td>2.02849402e8</td><td>1.1918433e8</td><td>0.0</td><td>7.505105e6</td><td>0.0</td><td>0.0</td><td>0.0</td><td>0.0</td><td>0</td></tr><tr><td>2001</td><td>&quot;Baja Californi...</td><td>&quot;Ensenada&quot;</td><td>1</td><td>0</td><td>0</td><td>0</td><td>10.34</td><td>231560.0</td><td>127562.0</td><td>228454.0</td><td>3106.0</td><td>77808.0</td><td>363941.0</td><td>2.287974</td><td>25.243932</td><td>0.346372</td><td>1.410374</td><td>4.574525</td><td>1.717626</td><td>13.80882</td><td>13.570088</td><td>79.431857</td><td>58.082238</td><td>1.8143e9</td><td>1.2600e9</td><td>1.12529943e8</td><td>1.80159171e8</td><td>6.7657917e7</td><td>5.326569e6</td><td>5.1925519e7</td><td>1.02192096e8</td><td>1.8143e9</td><td>3.75957159e8</td><td>0.0</td><td>2.37359543e8</td><td>5.385153e6</td><td>5.1052491e7</td><td>5.91814205e8</td><td>5.5177064e8</td><td>924431.0</td><td>3.4442092e7</td><td>0.0</td><td>0.0</td><td>0.0</td><td>0.0</td><td>1</td></tr><tr><td>2002</td><td>&quot;Baja Californi...</td><td>&quot;Mexicali&quot;</td><td>1</td><td>0</td><td>0</td><td>0</td><td>10.53</td><td>548784.0</td><td>311290.0</td><td>540835.0</td><td>7949.0</td><td>190666.0</td><td>854633.0</td><td>1.618303</td><td>21.501444</td><td>0.155113</td><td>0.396584</td><td>0.676314</td><td>1.226287</td><td>12.588088</td><td>11.394543</td><td>69.895625</td><td>59.384989</td><td>4.2665e9</td><td>2.6893e9</td><td>2.42923802e8</td><td>5.03028228e8</td><td>2.02289134e8</td><td>6.1974603e7</td><td>3.49582895e8</td><td>1.48544928e8</td><td>4.2665e9</td><td>9.3605859e8</td><td>0.0</td><td>4.84640503e8</td><td>4.2277257e7</td><td>1.56424139e8</td><td>1.3703e9</td><td>1.2705e9</td><td>0.0</td><td>6.8805483e7</td><td>0.0</td><td>6.226597e6</td><td>0.0</td><td>0.0</td><td>0</td></tr><tr><td>2004</td><td>&quot;Baja Californi...</td><td>&quot;Tijuana&quot;</td><td>1</td><td>0</td><td>0</td><td>0</td><td>10.18</td><td>1.051417e6</td><td>501232.0</td><td>1.03846e6</td><td>12957.0</td><td>481326.0</td><td>1.426523e6</td><td>1.46975</td><td>24.583879</td><td>0.1561</td><td>0.184237</td><td>1.159385</td><td>2.147023</td><td>14.972565</td><td>1.704115</td><td>74.592469</td><td>59.140287</td><td>7.6687e9</td><td>4.0493e9</td><td>9.12150806e8</td><td>1.0134e9</td><td>4.22021032e8</td><td>2.09646745e8</td><td>6.75515275e8</td><td>2.87177314e8</td><td>7.6687e9</td><td>2.0113e9</td><td>0.0</td><td>5.37315285e8</td><td>5.0323219e7</td><td>1.99445086e8</td><td>2.5413e9</td><td>2.3258e9</td><td>0.0</td><td>8.9613204e7</td><td>9.886582e6</td><td>3.271233e6</td><td>0.0</td><td>0.0</td><td>0</td></tr><tr><td>3003</td><td>&quot;Baja Californi...</td><td>&quot;La Paz&quot;</td><td>1</td><td>0</td><td>0</td><td>0</td><td>11.07</td><td>154830.0</td><td>84914.0</td><td>152265.0</td><td>2565.0</td><td>41161.0</td><td>249591.0</td><td>1.783446</td><td>19.888742</td><td>0.436283</td><td>1.077344</td><td>2.36889</td><td>2.106201</td><td>11.964861</td><td>9.818609</td><td>48.345112</td><td>59.853253</td><td>1.5905e9</td><td>7.96103297e8</td><td>1.99049175e8</td><td>2.85823447e8</td><td>6.9698011e7</td><td>6.7252376e7</td><td>1.28395181e8</td><td>4.4178072e7</td><td>1.5905e9</td><td>3.22094049e8</td><td>0.0</td><td>9.5047053e7</td><td>2.829005e6</td><td>1.0950621e7</td><td>5.97748127e8</td><td>3.56272638e8</td><td>1.81651856e8</td><td>0.0</td><td>0.0</td><td>2.390621e7</td><td>0.0</td><td>0.0</td><td>0</td></tr><tr><td>4002</td><td>&quot;Campeche&quot;</td><td>&quot;Campeche&quot;</td><td>1</td><td>0</td><td>0</td><td>0</td><td>10.72</td><td>149442.0</td><td>89926.0</td><td>147105.0</td><td>2337.0</td><td>57005.0</td><td>236338.0</td><td>3.308902</td><td>22.971498</td><td>0.716927</td><td>0.340677</td><td>0.655017</td><td>0.980697</td><td>24.155493</td><td>9.925292</td><td>67.749146</td><td>58.640701</td><td>1.6501e9</td><td>5.9914607e8</td><td>1.03725697e8</td><td>3.21835076e8</td><td>2.1815469e8</td><td>2.0599468e7</td><td>8.8877863e7</td><td>9.8279901e7</td><td>1.6501e9</td><td>1.06001123e8</td><td>0.0</td><td>2.59227688e8</td><td>1.5310541e7</td><td>1.5323761e7</td><td>6.81212532e8</td><td>5.04044024e8</td><td>6.9e7</td><td>1.99500904e8</td><td>0.0</td><td>0.0</td><td>0.0</td><td>0.0</td><td>0</td></tr><tr><td>4003</td><td>&quot;Campeche&quot;</td><td>&quot;Carmen&quot;</td><td>1</td><td>0</td><td>0</td><td>0</td><td>10.26</td><td>125297.0</td><td>70830.0</td><td>122704.0</td><td>2593.0</td><td>57600.0</td><td>187057.0</td><td>3.928864</td><td>26.493564</td><td>0.666552</td><td>0.663278</td><td>5.758929</td><td>2.418576</td><td>27.367546</td><td>14.859451</td><td>55.028952</td><td>58.095083</td><td>1.7477e9</td><td>7.26456043e8</td><td>1.1174574e8</td><td>3.69468848e8</td><td>1.38229914e8</td><td>1.0199904e7</td><td>1.70118866e8</td><td>2.21508706e8</td><td>1.7477e9</td><td>1.10959683e8</td><td>0.0</td><td>1.35210295e8</td><td>9.580904e6</td><td>5.6254141e7</td><td>7.17380783e8</td><td>6.36085256e8</td><td>8.1572059e7</td><td>0.0</td><td>0.0</td><td>684900.0</td><td>0.0</td><td>0.0</td><td>0</td></tr><tr><td>5002</td><td>&quot;Coahuila de Za...</td><td>&quot;Acuña&quot;</td><td>1</td><td>0</td><td>0</td><td>0</td><td>9.4</td><td>82890.0</td><td>42887.0</td><td>81675.0</td><td>1215.0</td><td>31769.0</td><td>131001.0</td><td>1.684883</td><td>27.118247</td><td>0.169818</td><td>0.316255</td><td>0.590671</td><td>0.896511</td><td>18.769361</td><td>1.737419</td><td>87.167368</td><td>58.481712</td><td>6.02008103e8</td><td>2.36892629e8</td><td>4.4466243e7</td><td>8.6126467e7</td><td>9.4765013e7</td><td>1.4651265e7</td><td>1.18634582e8</td><td>6.471904e6</td><td>6.02008103e8</td><td>9.207206e7</td><td>61720.0</td><td>8.0511324e7</td><td>5.999949e6</td><td>8.162555e6</td><td>2.36954078e8</td><td>1.55947624e8</td><td>2.2298793e7</td><td>0.0</td><td>0.0</td><td>0.0</td><td>0.0</td><td>0.0</td><td>1</td></tr><tr><td>5010</td><td>&quot;Coahuila de Za...</td><td>&quot;Frontera&quot;</td><td>0</td><td>0</td><td>0</td><td>1</td><td>10.0</td><td>36013.0</td><td>28388.0</td><td>34852.0</td><td>1161.0</td><td>13095.0</td><td>69234.0</td><td>1.500982</td><td>21.339072</td><td>0.130126</td><td>0.154449</td><td>0.383081</td><td>0.322275</td><td>17.841221</td><td>8.696866</td><td>50.310298</td><td>60.084271</td><td>2.64593807e8</td><td>1.18168716e8</td><td>2.7657376e7</td><td>6.3984621e7</td><td>9.123231e6</td><td>6.686434e6</td><td>3.8973429e7</td><td>0.0</td><td>2.64593807e8</td><td>4.1438118e7</td><td>0.0</td><td>1.5167503e7</td><td>205481.0</td><td>1.17755e6</td><td>1.3132082e8</td><td>7.2671271e7</td><td>2.613064e6</td><td>0.0</td><td>0.0</td><td>0.0</td><td>0.0</td><td>0.0</td><td>0</td></tr><tr><td>5017</td><td>&quot;Coahuila de Za...</td><td>&quot;Matamoros&quot;</td><td>0</td><td>0</td><td>0</td><td>1</td><td>9.16</td><td>54126.0</td><td>38152.0</td><td>52979.0</td><td>1147.0</td><td>27593.0</td><td>90602.0</td><td>3.099693</td><td>30.317323</td><td>0.788392</td><td>0.108744</td><td>0.865702</td><td>1.415367</td><td>17.75638</td><td>41.713074</td><td>69.962863</td><td>58.1804</td><td>2.88970607e8</td><td>1.32435839e8</td><td>1.9180815e7</td><td>4.4185142e7</td><td>1.0121102e7</td><td>1.4223084e7</td><td>5.1738016e7</td><td>6.933857e6</td><td>2.88970607e8</td><td>2.5878108e7</td><td>0.0</td><td>1.6265712e7</td><td>38020.0</td><td>3.315145e6</td><td>1.23791811e8</td><td>1.19681811e8</td><td>0.0</td><td>1.0152752e7</td><td>0.0</td><td>0.0</td><td>0.0</td><td>0.0</td><td>1</td></tr><tr><td>5018</td><td>&quot;Coahuila de Za...</td><td>&quot;Monclova&quot;</td><td>1</td><td>0</td><td>0</td><td>0</td><td>10.86</td><td>108553.0</td><td>80188.0</td><td>104884.0</td><td>3669.0</td><td>37049.0</td><td>200448.0</td><td>1.185581</td><td>18.520082</td><td>0.109535</td><td>0.178201</td><td>0.56242</td><td>0.41456</td><td>13.326067</td><td>0.328639</td><td>51.693781</td><td>60.47683</td><td>8.39956722e8</td><td>2.13494063e8</td><td>7.9630984e7</td><td>1.22572121e8</td><td>5.1385916e7</td><td>1.9754316e7</td><td>3.10246961e8</td><td>2.4287962e7</td><td>8.39956722e8</td><td>1.51278127e8</td><td>0.0</td><td>8.8269025e7</td><td>5.923698e6</td><td>2.918777e6</td><td>3.6334222e8</td><td>2.24103802e8</td><td>0.0</td><td>1.8584399e7</td><td>0.0</td><td>4.121073e6</td><td>0.0</td><td>0.0</td><td>0</td></tr><tr><td>...</td><td>...</td><td>...</td><td>...</td><td>...</td><td>...</td><td>...</td><td>...</td><td>...</td><td>...</td><td>...</td><td>...</td><td>...</td><td>...</td><td>...</td><td>...</td><td>...</td><td>...</td><td>...</td><td>...</td><td>...</td><td>...</td><td>...</td><td>...</td><td>...</td><td>...</td><td>...</td><td>...</td><td>...</td><td>...</td><td>...</td><td>...</td><td>...</td><td>...</td><td>...</td><td>...</td><td>...</td><td>...</td><td>...</td><td>...</td><td>...</td><td>...</td><td>...</td><td>...</td><td>...</td><td>...</td><td>...</td></tr><tr><td>30138</td><td>&quot;Veracruz de Ig...</td><td>&quot;Río Blanco&quot;</td><td>0</td><td>0</td><td>0</td><td>1</td><td>10.64</td><td>19546.0</td><td>15283.0</td><td>19014.0</td><td>532.0</td><td>11914.0</td><td>29866.0</td><td>2.58251</td><td>24.752242</td><td>0.102999</td><td>0.198812</td><td>0.36888</td><td>0.881479</td><td>19.311913</td><td>0.023926</td><td>70.18234</td><td>59.128126</td><td>1.35131975e8</td><td>4.522757e7</td><td>1.397336e7</td><td>2.8184551e7</td><td>1.139241e6</td><td>9.257126e6</td><td>2.2822199e7</td><td>4.958816e6</td><td>1.35131975e8</td><td>6.658586e6</td><td>0.0</td><td>7.776999e6</td><td>184741.0</td><td>95285.0</td><td>6.5641327e7</td><td>5.4775037e7</td><td>0.0</td><td>9.569112e6</td><td>0.0</td><td>0.0</td><td>0.0</td><td>0.0</td><td>1</td></tr><tr><td>30175</td><td>&quot;Veracruz de Ig...</td><td>&quot;Tihuatlán&quot;</td><td>0</td><td>0</td><td>0</td><td>1</td><td>8.47</td><td>44890.0</td><td>28820.0</td><td>44322.0</td><td>568.0</td><td>30615.0</td><td>61945.0</td><td>7.747142</td><td>38.645551</td><td>0.496029</td><td>1.462149</td><td>25.580591</td><td>8.148268</td><td>27.402761</td><td>62.171344</td><td>83.298981</td><td>53.169422</td><td>3.25588504e8</td><td>5.0662004e7</td><td>3.1006092e7</td><td>4.820168e7</td><td>1.268298e7</td><td>637225.0</td><td>1.59082689e8</td><td>2.3315834e7</td><td>3.25588504e8</td><td>9.005746e6</td><td>3.958001e6</td><td>1.0910978e7</td><td>836868.0</td><td>4.535259e6</td><td>6.9932482e7</td><td>2.24313506e8</td><td>2.095664e6</td><td>0.0</td><td>0.0</td><td>0.0</td><td>0.0</td><td>0.0</td><td>1</td></tr><tr><td>30182</td><td>&quot;Veracruz de Ig...</td><td>&quot;Tlalnelhuayoca...</td><td>0</td><td>0</td><td>1</td><td>0</td><td>8.42</td><td>9824.0</td><td>5536.0</td><td>9608.0</td><td>216.0</td><td>6602.0</td><td>12951.0</td><td>7.540595</td><td>41.605687</td><td>0.445218</td><td>0.245637</td><td>0.424748</td><td>3.198403</td><td>32.426441</td><td>63.751017</td><td>87.43825</td><td>55.501625</td><td>5.0535766e7</td><td>6.334354e6</td><td>5.16519e6</td><td>1.3606813e7</td><td>512380.0</td><td>274593.0</td><td>2.2349159e7</td><td>1.360143e6</td><td>5.0535766e7</td><td>2.062064e6</td><td>435247.0</td><td>2.195424e6</td><td>45001.0</td><td>63110.0</td><td>1.5278658e7</td><td>3.0456262e7</td><td>0.0</td><td>933134.0</td><td>0.0</td><td>0.0</td><td>0.0</td><td>0.0</td><td>0</td></tr><tr><td>30189</td><td>&quot;Veracruz de Ig...</td><td>&quot;Tuxpan&quot;</td><td>1</td><td>0</td><td>0</td><td>0</td><td>9.87</td><td>74959.0</td><td>51341.0</td><td>73161.0</td><td>1798.0</td><td>42044.0</td><td>112389.0</td><td>3.909846</td><td>29.457407</td><td>0.482884</td><td>0.736672</td><td>14.538213</td><td>4.019499</td><td>19.63866</td><td>23.599612</td><td>73.641155</td><td>56.691078</td><td>8.28423854e8</td><td>2.53050062e8</td><td>4.9683635e7</td><td>1.99425251e8</td><td>1.5206221e7</td><td>1.7208873e7</td><td>1.66013342e8</td><td>4.4067507e7</td><td>8.28423854e8</td><td>4.7515144e7</td><td>1.12e7</td><td>6.9500578e7</td><td>1.054097e6</td><td>1.1859296e7</td><td>2.90187657e8</td><td>3.97107082e8</td><td>0.0</td><td>8.3768963e7</td><td>0.0</td><td>0.0</td><td>0.0</td><td>0.0</td><td>0</td></tr><tr><td>30193</td><td>&quot;Veracruz de Ig...</td><td>&quot;Veracruz&quot;</td><td>1</td><td>0</td><td>0</td><td>0</td><td>10.6</td><td>319865.0</td><td>191327.0</td><td>312163.0</td><td>7702.0</td><td>170452.0</td><td>435406.0</td><td>2.39025</td><td>24.114569</td><td>0.120351</td><td>0.109771</td><td>0.523562</td><td>1.464228</td><td>15.960197</td><td>11.200921</td><td>66.116773</td><td>59.273735</td><td>2.6733e9</td><td>1.0180e9</td><td>1.2325738e8</td><td>6.13916368e8</td><td>5.8531228e7</td><td>2.6546656e7</td><td>5.00107416e8</td><td>9.2256421e7</td><td>2.6733e9</td><td>2.24869194e8</td><td>0.0</td><td>1.38883691e8</td><td>9.8326811e7</td><td>1.04348184e8</td><td>1.0226e9</td><td>1.0843e9</td><td>0.0</td><td>2.31516096e8</td><td>9.124076e6</td><td>0.0</td><td>0.0</td><td>0.0</td><td>0</td></tr><tr><td>31041</td><td>&quot;Yucatán&quot;</td><td>&quot;Kanasín&quot;</td><td>0</td><td>0</td><td>0</td><td>1</td><td>9.13</td><td>73586.0</td><td>37378.0</td><td>72218.0</td><td>1368.0</td><td>37361.0</td><td>104257.0</td><td>3.854164</td><td>30.569745</td><td>2.099878</td><td>0.40838</td><td>1.192663</td><td>0.882579</td><td>24.586632</td><td>1.540098</td><td>71.092001</td><td>58.122019</td><td>2.78987025e8</td><td>8.3098901e7</td><td>2.9222021e7</td><td>4.0102983e7</td><td>2.5280229e7</td><td>1.8356993e7</td><td>4.63856e7</td><td>0.0</td><td>2.78987025e8</td><td>2.3094961e7</td><td>0.0</td><td>1.5416834e7</td><td>201796.0</td><td>0.0</td><td>1.23505733e8</td><td>1.16722552e8</td><td>0.0</td><td>3.6540298e7</td><td>0.0</td><td>45149.0</td><td>0.0</td><td>0.0</td><td>1</td></tr><tr><td>31050</td><td>&quot;Yucatán&quot;</td><td>&quot;Mérida&quot;</td><td>1</td><td>0</td><td>0</td><td>0</td><td>11.4</td><td>527424.0</td><td>305457.0</td><td>520438.0</td><td>6986.0</td><td>220546.0</td><td>770784.0</td><td>2.04685</td><td>19.528741</td><td>0.697308</td><td>0.16124</td><td>0.654768</td><td>0.449729</td><td>16.000938</td><td>4.236436</td><td>55.836429</td><td>59.91362</td><td>3.8354e9</td><td>1.1198e9</td><td>2.5065397e8</td><td>1.0752e9</td><td>6.57158947e8</td><td>6.3414277e7</td><td>2.4119722e8</td><td>3.3581342e7</td><td>3.8354e9</td><td>1.1032e9</td><td>0.0</td><td>2.37328502e8</td><td>1.41845395e8</td><td>1.08545392e8</td><td>1.2764e9</td><td>9.02834767e8</td><td>0.0</td><td>3.55938792e8</td><td>3.8482941e7</td><td>6.5278746e7</td><td>0.0</td><td>0.0</td><td>1</td></tr><tr><td>31059</td><td>&quot;Yucatán&quot;</td><td>&quot;Progreso&quot;</td><td>0</td><td>0</td><td>0</td><td>1</td><td>9.33</td><td>33636.0</td><td>19706.0</td><td>33174.0</td><td>462.0</td><td>20214.0</td><td>45557.0</td><td>3.300488</td><td>33.853657</td><td>1.1425</td><td>1.133348</td><td>1.850411</td><td>1.452282</td><td>30.467138</td><td>13.772573</td><td>66.213456</td><td>57.637201</td><td>3.04225349e8</td><td>1.41939852e8</td><td>3.9590377e7</td><td>6.9058263e7</td><td>1.262154e7</td><td>4.245091e6</td><td>2.8197042e7</td><td>8.323593e6</td><td>3.04225349e8</td><td>5.8284325e7</td><td>0.0</td><td>3.1201186e7</td><td>1.7690278e7</td><td>0.0</td><td>9.1257328e7</td><td>1.05792232e8</td><td>0.0</td><td>249591.0</td><td>0.0</td><td>0.0</td><td>0.0</td><td>0.0</td><td>0</td></tr><tr><td>31101</td><td>&quot;Yucatán&quot;</td><td>&quot;Umán&quot;</td><td>0</td><td>0</td><td>0</td><td>1</td><td>9.11</td><td>36247.0</td><td>18730.0</td><td>35793.0</td><td>454.0</td><td>13476.0</td><td>55609.0</td><td>4.711116</td><td>30.184683</td><td>5.652948</td><td>0.344533</td><td>0.412571</td><td>0.385078</td><td>27.854189</td><td>18.421623</td><td>74.835012</td><td>57.140115</td><td>1.68613455e8</td><td>8.053159e7</td><td>1.8019998e7</td><td>2.4378724e7</td><td>1.8527188e7</td><td>263342.0</td><td>2.0517733e7</td><td>6.37488e6</td><td>1.68613455e8</td><td>1.8487537e7</td><td>0.0</td><td>1.2368506e7</td><td>32235.0</td><td>0.0</td><td>7.7811297e7</td><td>5.9089308e7</td><td>824572.0</td><td>0.0</td><td>0.0</td><td>0.0</td><td>0.0</td><td>0.0</td><td>0</td></tr><tr><td>32010</td><td>&quot;Zacatecas&quot;</td><td>&quot;Fresnillo&quot;</td><td>1</td><td>0</td><td>0</td><td>0</td><td>9.22</td><td>106451.0</td><td>76669.0</td><td>104623.0</td><td>1828.0</td><td>51619.0</td><td>188625.0</td><td>3.007351</td><td>30.947013</td><td>2.505952</td><td>0.397611</td><td>1.553272</td><td>1.197885</td><td>16.840048</td><td>35.508789</td><td>69.259161</td><td>58.015638</td><td>1.2049e9</td><td>4.35303876e8</td><td>6.7571704e7</td><td>1.80066614e8</td><td>3.9408011e7</td><td>1.3747751e7</td><td>3.95581806e8</td><td>7.3229325e7</td><td>1.2049e9</td><td>7.7531565e7</td><td>400002.0</td><td>7.4056393e7</td><td>3.737297e6</td><td>1.3068918e7</td><td>4.03862934e8</td><td>3.67120061e8</td><td>2.65131917e8</td><td>0.0</td><td>0.0</td><td>0.0</td><td>0.0</td><td>0.0</td><td>0</td></tr><tr><td>32017</td><td>&quot;Zacatecas&quot;</td><td>&quot;Guadalupe&quot;</td><td>1</td><td>0</td><td>0</td><td>0</td><td>11.39</td><td>104530.0</td><td>60366.0</td><td>102413.0</td><td>2117.0</td><td>35795.0</td><td>175273.0</td><td>1.503715</td><td>17.235472</td><td>0.359101</td><td>0.179075</td><td>1.338077</td><td>0.612832</td><td>10.099602</td><td>12.299046</td><td>61.082518</td><td>59.97013</td><td>7.49842528e8</td><td>3.507811e8</td><td>6.1080306e7</td><td>1.193316e8</td><td>3.7006664e7</td><td>1.4301102e7</td><td>1.00331455e8</td><td>4.8135153e7</td><td>7.49842528e8</td><td>9.303443e7</td><td>50645.0</td><td>7.8177592e7</td><td>9.200731e6</td><td>1.3226873e7</td><td>3.50544796e8</td><td>2.05607461e8</td><td>0.0</td><td>1.8875148e7</td><td>0.0</td><td>0.0</td><td>0.0</td><td>0.0</td><td>0</td></tr><tr><td>32056</td><td>&quot;Zacatecas&quot;</td><td>&quot;Zacatecas&quot;</td><td>0</td><td>0</td><td>0</td><td>1</td><td>11.57</td><td>72513.0</td><td>48423.0</td><td>70810.0</td><td>1703.0</td><td>25350.0</td><td>123979.0</td><td>1.442438</td><td>19.436229</td><td>0.294739</td><td>0.163292</td><td>1.278559</td><td>0.484463</td><td>9.340958</td><td>7.461549</td><td>57.885307</td><td>60.176191</td><td>6.3720065e8</td><td>3.39227373e8</td><td>7.5417683e7</td><td>9.7451164e7</td><td>2.7750752e7</td><td>1.9530713e7</td><td>5.4406914e7</td><td>2.3416051e7</td><td>6.3720065e8</td><td>7.7863978e7</td><td>0.0</td><td>7.9910193e7</td><td>1.2754058e7</td><td>5.650925e6</td><td>2.91646816e8</td><td>1.64386904e8</td><td>3.319842e6</td><td>0.0</td><td>0.0</td><td>1.667934e6</td><td>0.0</td><td>0.0</td><td>0</td></tr></tbody></table></div>"
      ],
      "text/plain": [
       "shape: (255, 47)\n",
       "┌───────────┬─────────┬─────────┬────────────┬─────┬────────────┬────────────┬────────────┬────────┐\n",
       "│ mun_inegi ┆ nom_ent ┆ nom_mun ┆ mun_tipo_m ┆ ... ┆ ingresos_o ┆ ingresos_d ┆ egresos_in ┆ corrup │\n",
       "│ ---       ┆ _x      ┆ _x      ┆ etropolita ┆     ┆ tros_ingre ┆ isponibili ┆ versiones_ ┆ ---    │\n",
       "│ i64       ┆ ---     ┆ ---     ┆ no         ┆     ┆ sos        ┆ dad_inicia ┆ financiera ┆ i32    │\n",
       "│           ┆ str     ┆ str     ┆ ---        ┆     ┆ ---        ┆ l          ┆ s_...      ┆        │\n",
       "│           ┆         ┆         ┆ u8         ┆     ┆ f64        ┆ ---        ┆ ---        ┆        │\n",
       "│           ┆         ┆         ┆            ┆     ┆            ┆ f64        ┆ f64        ┆        │\n",
       "╞═══════════╪═════════╪═════════╪════════════╪═════╪════════════╪════════════╪════════════╪════════╡\n",
       "│ 1001      ┆ Aguasca ┆ Aguasca ┆ 1          ┆ ... ┆ 0.0        ┆ 0.0        ┆ 0.0        ┆ 1      │\n",
       "│           ┆ lientes ┆ lientes ┆            ┆     ┆            ┆            ┆            ┆        │\n",
       "│ 1005      ┆ Aguasca ┆ Jesús   ┆ 0          ┆ ... ┆ 0.0        ┆ 0.0        ┆ 0.0        ┆ 0      │\n",
       "│           ┆ lientes ┆ María   ┆            ┆     ┆            ┆            ┆            ┆        │\n",
       "│ 2001      ┆ Baja    ┆ Ensenad ┆ 1          ┆ ... ┆ 0.0        ┆ 0.0        ┆ 0.0        ┆ 1      │\n",
       "│           ┆ Califor ┆ a       ┆            ┆     ┆            ┆            ┆            ┆        │\n",
       "│           ┆ nia     ┆         ┆            ┆     ┆            ┆            ┆            ┆        │\n",
       "│ 2002      ┆ Baja    ┆ Mexical ┆ 1          ┆ ... ┆ 6.226597e6 ┆ 0.0        ┆ 0.0        ┆ 0      │\n",
       "│           ┆ Califor ┆ i       ┆            ┆     ┆            ┆            ┆            ┆        │\n",
       "│           ┆ nia     ┆         ┆            ┆     ┆            ┆            ┆            ┆        │\n",
       "│ ...       ┆ ...     ┆ ...     ┆ ...        ┆ ... ┆ ...        ┆ ...        ┆ ...        ┆ ...    │\n",
       "│ 31101     ┆ Yucatán ┆ Umán    ┆ 0          ┆ ... ┆ 0.0        ┆ 0.0        ┆ 0.0        ┆ 0      │\n",
       "│ 32010     ┆ Zacatec ┆ Fresnil ┆ 1          ┆ ... ┆ 0.0        ┆ 0.0        ┆ 0.0        ┆ 0      │\n",
       "│           ┆ as      ┆ lo      ┆            ┆     ┆            ┆            ┆            ┆        │\n",
       "│ 32017     ┆ Zacatec ┆ Guadalu ┆ 1          ┆ ... ┆ 0.0        ┆ 0.0        ┆ 0.0        ┆ 0      │\n",
       "│           ┆ as      ┆ pe      ┆            ┆     ┆            ┆            ┆            ┆        │\n",
       "│ 32056     ┆ Zacatec ┆ Zacatec ┆ 0          ┆ ... ┆ 1.667934e6 ┆ 0.0        ┆ 0.0        ┆ 0      │\n",
       "│           ┆ as      ┆ as      ┆            ┆     ┆            ┆            ┆            ┆        │\n",
       "└───────────┴─────────┴─────────┴────────────┴─────┴────────────┴────────────┴────────────┴────────┘"
      ]
     },
     "execution_count": 12,
     "metadata": {},
     "output_type": "execute_result"
    }
   ],
   "source": [
    "# Se eliminan las columnas extras\n",
    "efipem19_corr_clean = (\n",
    "                            pl.DataFrame(efipem19_corr_raw)\n",
    "                            .lazy()\n",
    "                            .select(pl.col(\"mun_inegi\", \"nom_ent_x\", \"nom_mun_x\", 'mun_tipo', 'graproes', 'pea', 'pe_inac', 'pocupada', 'pdesocup',\n",
    "       'psinder', 'pder_ss', 'analf', 'sbasc', 'ovsde', 'ovsee', 'ovsae',\n",
    "       'ovpt', 'vhac', 'pl.5000', 'po2sm', 'im_2020',\n",
    "       'egresos_total_de_egresos', 'egresos_servicios_personales',\n",
    "       'egresos_materiales_y_suministros', 'egresos_servicios_generales',\n",
    "       'egresos_transferencias_asignaciones_subsidios_y_otras_ayudas',\n",
    "       'egresos_bienes_muebles_inmuebles_e_intangibles',\n",
    "       'egresos_inversion_publica', 'egresos_deuda_publica',\n",
    "       'ingresos_total_de_ingresos', 'ingresos_impuestos',\n",
    "       'ingresos_contribuciones_de_mejoras', 'ingresos_derechos',\n",
    "       'ingresos_productos', 'ingresos_aprovechamientos',\n",
    "       'ingresos_participaciones_federales',\n",
    "       'ingresos_aportaciones_federales_y_estatales',\n",
    "       'ingresos_financiamiento', 'egresos_disponibilidad_final',\n",
    "       'egresos_otros_egresos', 'ingresos_otros_ingresos',\n",
    "       'ingresos_disponibilidad_inicial',\n",
    "       'egresos_inversiones_financieras_y_otras_provisiones', \"corrup\").fill_null(0))\n",
    "                            .collect()\n",
    "                            .to_dummies(columns = [\"mun_tipo\"])\n",
    "                            .drop(\"mun_tipo_0\")\n",
    "                        )\n",
    "efipem19_corr_clean"
   ]
  },
  {
   "cell_type": "code",
   "execution_count": 13,
   "metadata": {},
   "outputs": [
    {
     "name": "stdout",
     "output_type": "stream",
     "text": [
      "mun_inegi - 0\n",
      "nom_ent_x - 0\n",
      "nom_mun_x - 0\n",
      "mun_tipo_metropolitano - 0\n",
      "mun_tipo_rural - 0\n",
      "mun_tipo_transición_rural-urbano - 0\n",
      "mun_tipo_urbano - 0\n",
      "graproes - 0\n",
      "pea - 0\n",
      "pe_inac - 0\n",
      "pocupada - 0\n",
      "pdesocup - 0\n",
      "psinder - 0\n",
      "pder_ss - 0\n",
      "analf - 0\n",
      "sbasc - 0\n",
      "ovsde - 0\n",
      "ovsee - 0\n",
      "ovsae - 0\n",
      "ovpt - 0\n",
      "vhac - 0\n",
      "pl.5000 - 0\n",
      "po2sm - 0\n",
      "im_2020 - 0\n",
      "egresos_total_de_egresos - 0\n",
      "egresos_servicios_personales - 0\n",
      "egresos_materiales_y_suministros - 0\n",
      "egresos_servicios_generales - 0\n",
      "egresos_transferencias_asignaciones_subsidios_y_otras_ayudas - 0\n",
      "egresos_bienes_muebles_inmuebles_e_intangibles - 0\n",
      "egresos_inversion_publica - 0\n",
      "egresos_deuda_publica - 0\n",
      "ingresos_total_de_ingresos - 0\n",
      "ingresos_impuestos - 0\n",
      "ingresos_contribuciones_de_mejoras - 0\n",
      "ingresos_derechos - 0\n",
      "ingresos_productos - 0\n",
      "ingresos_aprovechamientos - 0\n",
      "ingresos_participaciones_federales - 0\n",
      "ingresos_aportaciones_federales_y_estatales - 0\n",
      "ingresos_financiamiento - 0\n",
      "egresos_disponibilidad_final - 0\n",
      "egresos_otros_egresos - 0\n",
      "ingresos_otros_ingresos - 0\n",
      "ingresos_disponibilidad_inicial - 0\n",
      "egresos_inversiones_financieras_y_otras_provisiones - 0\n",
      "corrup - 0\n"
     ]
    }
   ],
   "source": [
    "# Se verifica por NAs\n",
    "for col in efipem19_corr_clean.get_columns():\n",
    "    print(f'{col.name} - {col.is_null().sum()}') # Ya no hay NAs"
   ]
  },
  {
   "cell_type": "code",
   "execution_count": 33,
   "metadata": {},
   "outputs": [
    {
     "name": "stdout",
     "output_type": "stream",
     "text": [
      "cs_propety_tax_total_revs - 14\n",
      "lrs_direct_long_term_debt_pobtot - 61\n",
      "lrs_debt_service_total_rev - 61\n"
     ]
    },
    {
     "data": {
      "text/plain": [
       "0    119\n",
       "1    114\n",
       "Name: corrup, dtype: int64"
      ]
     },
     "execution_count": 33,
     "metadata": {},
     "output_type": "execute_result"
    }
   ],
   "source": [
    "indicadores_fs_raw = pd.read_csv(\"../data/3_final/indicadores_fs.csv\")\n",
    "indicadores_fs_clean = indicadores_fs_raw[indicadores_fs_raw.prop_corrup_inc19.notnull()]\n",
    "\n",
    "# Remove non-relevant columns\n",
    "indicadores_fs_clean = indicadores_fs_clean.drop([\"nom_ent\", \"nom_mun\", \"mun_inegi\", \"anio\", \"gm_2020\", \"prop_corrup_per19\", \"prop_corrup5_inc19\", \"ovsae\", \"ovpt\", \"po2sm\"], axis = 1)\n",
    "\n",
    "# Remove measure of corruption from other years\n",
    "indicadores_fs_clean = indicadores_fs_clean.loc[:, ~indicadores_fs_clean.columns.str.endswith(\"17\")]\n",
    "indicadores_fs_clean = indicadores_fs_clean.loc[:, ~indicadores_fs_clean.columns.str.endswith(\"21\")]\n",
    "\n",
    "na_cols = []\n",
    "for col in indicadores_fs_clean.columns:\n",
    "  na_count = indicadores_fs_clean[col].isna().sum()\n",
    "  if na_count > 0:\n",
    "    print(f'{col} - {na_count}')\n",
    "    na_cols.append(col) \n",
    "\n",
    "# Fill NAs\n",
    "indicadores_fs_clean = indicadores_fs_clean.fillna(value = {\"cs_propety_tax_total_revs\": indicadores_fs_clean.cs_propety_tax_total_revs.median(),\n",
    "                                                    \"lrs_direct_long_term_debt_pobtot\": indicadores_fs_clean.lrs_direct_long_term_debt_pobtot.median(),\n",
    "                                                    \"lrs_debt_service_total_rev\": indicadores_fs_clean.lrs_debt_service_total_rev.median()})\n",
    "\n",
    "indicadores_fs_clean = pd.get_dummies(indicadores_fs_clean, columns = [\"mun_tipo\"])\n",
    "\n",
    "# Add feature variable \n",
    "indicadores_fs_clean[\"corrup\"] = np.where(indicadores_fs_clean.prop_corrup_inc19 > indicadores_fs_clean.prop_corrup_inc19.mean(), 1, 0)\n",
    "indicadores_fs_clean = indicadores_fs_clean.drop([\"prop_corrup_inc19\"], axis = 1)\n",
    "\n",
    "# Distribution of classes\n",
    "indicadores_fs_clean.corrup.value_counts()"
   ]
  },
  {
   "cell_type": "code",
   "execution_count": 34,
   "metadata": {},
   "outputs": [
    {
     "name": "stdout",
     "output_type": "stream",
     "text": [
      "X_train: (186, 51)\n",
      "X_test: (47, 51)\n",
      "y_train: (186,)\n",
      "y_test: (47,)\n",
      "Y train\n",
      "[[ 0 94]\n",
      " [ 1 92]]\n",
      "Y test\n",
      "[[ 0 25]\n",
      " [ 1 22]]\n"
     ]
    }
   ],
   "source": [
    "# Split features from target\n",
    "X = np.array(indicadores_fs_clean.drop([\"corrup\"], axis = 1))\n",
    "Y = np.array(indicadores_fs_clean[\"corrup\"])\n",
    "\n",
    "# Normalize features\n",
    "scaler = MinMaxScaler()\n",
    "X = scaler.fit_transform(X)\n",
    "\n",
    "# Split Train, test datasets\n",
    "X_train, X_test, y_train, y_test = train_test_split(X, Y, test_size = 0.2, random_state = 42)\n",
    "\n",
    "print(\"X_train:\", X_train.shape)\n",
    "print(\"X_test:\", X_test.shape)\n",
    "\n",
    "print(\"y_train:\", y_train.shape)\n",
    "print(\"y_test:\", y_test.shape)\n",
    "\n",
    "# Compare size of classes in sets\n",
    "class_train, counts_train = np.unique(y_train, return_counts = True)\n",
    "class_test, counts_test = np.unique(y_test, return_counts = True)\n",
    "\n",
    "print(\"Y train\")\n",
    "print(np.asarray((class_train, counts_train)).T)\n",
    "print(\"Y test\")\n",
    "print(np.asarray((class_test, counts_test)).T)\n"
   ]
  },
  {
   "cell_type": "code",
   "execution_count": 14,
   "metadata": {},
   "outputs": [
    {
     "name": "stdout",
     "output_type": "stream",
     "text": [
      "Conjunto completo: (255, 47)\n",
      "Features: (255, 43)\n",
      "Target: (255, 1)\n",
      "X_train: (204, 43)\n",
      "X_test: (51, 43)\n",
      "y_train: (204, 1)\n",
      "y_test: (51, 1)\n"
     ]
    }
   ],
   "source": [
    "# Se separan las features del target\n",
    "X = efipem19_corr_clean.drop([\"mun_inegi\", \"nom_ent_x\", \"nom_mun_x\", \"corrup\"]).to_numpy()\n",
    "Y = efipem19_corr_clean.select(pl.col(\"corrup\")).to_numpy()\n",
    "\n",
    "# Se normalizan los datos en X\n",
    "scaler = MinMaxScaler()\n",
    "X = scaler.fit_transform(X)\n",
    "\n",
    "print(\"Conjunto completo:\", efipem19_corr_clean.shape)\n",
    "print(\"Features:\", X.shape)\n",
    "print(\"Target:\", Y.shape)\n",
    "\n",
    "# Se crean los conjuntos de entrenamiento y prueba\n",
    "X_train, X_test, y_train, y_test = train_test_split(X, Y, test_size = 0.2, random_state = 42)\n",
    "\n",
    "print(\"X_train:\", X_train.shape)\n",
    "print(\"X_test:\", X_test.shape)\n",
    "\n",
    "print(\"y_train:\", y_train.shape)\n",
    "print(\"y_test:\", y_test.shape)"
   ]
  },
  {
   "cell_type": "code",
   "execution_count": 35,
   "metadata": {},
   "outputs": [
    {
     "name": "stdout",
     "output_type": "stream",
     "text": [
      "Y train\n",
      "[[ 0 94]\n",
      " [ 1 92]]\n",
      "Y test\n",
      "[[ 0 25]\n",
      " [ 1 22]]\n"
     ]
    }
   ],
   "source": [
    "# Se compara la prevalencia de la clase positiva en ambos conjuntos\n",
    "class_train, counts_train = np.unique(y_train, return_counts = True)\n",
    "class_test, counts_test = np.unique(y_test, return_counts = True)\n",
    "\n",
    "print(\"Y train\")\n",
    "print(np.asarray((class_train, counts_train)).T)\n",
    "print(\"Y test\")\n",
    "print(np.asarray((class_test, counts_test)).T)\n",
    "# Lucen bien balanceadas"
   ]
  },
  {
   "cell_type": "code",
   "execution_count": 72,
   "metadata": {},
   "outputs": [
    {
     "name": "stdout",
     "output_type": "stream",
     "text": [
      "{'bootstrap': [True, False],\n",
      " 'max_depth': [10,\n",
      "               20,\n",
      "               30,\n",
      "               40,\n",
      "               50,\n",
      "               60,\n",
      "               70,\n",
      "               80,\n",
      "               90,\n",
      "               100,\n",
      "               110,\n",
      "               120,\n",
      "               130,\n",
      "               140,\n",
      "               150,\n",
      "               160,\n",
      "               170,\n",
      "               180,\n",
      "               190,\n",
      "               200,\n",
      "               None],\n",
      " 'max_features': ['auto', 'sqrt'],\n",
      " 'min_samples_leaf': [1, 2, 4, 6, 8, 10, 12, 14, 16, 18, 20],\n",
      " 'min_samples_split': [2, 5, 10, 15, 20, 25, 30, 35, 40],\n",
      " 'n_estimators': [100, 200, 300, 400, 500, 600, 700, 800, 900, 1000]}\n"
     ]
    }
   ],
   "source": [
    "# Cross Validation\n",
    "\n",
    "## Random Search\n",
    "\n",
    "# Number of trees in random forest\n",
    "n_estimators = [int(x) for x in np.linspace(start = 100, stop = 1000, num = 10)]\n",
    "\n",
    "# Number of features to consider at every split\n",
    "max_features = ['auto', 'sqrt']\n",
    "# Maximum number of levels in tree\n",
    "max_depth = [int(x) for x in np.linspace(10, 200, num = 20)]\n",
    "max_depth.append(None)\n",
    "\n",
    "# Minimum number of samples required to split a node\n",
    "min_samples_split = [2, 5, 10, 15, 20, 25, 30, 35, 40]\n",
    "# Minimum number of samples required at each leaf node\n",
    "min_samples_leaf = [1, 2, 4, 6, 8, 10, 12, 14, 16, 18, 20]\n",
    "# Method of selecting samples for training each tree\n",
    "bootstrap = [True, False]\n",
    "\n",
    "# Create the random grid\n",
    "random_grid = {'n_estimators': n_estimators,\n",
    "               'max_features': max_features,\n",
    "               'max_depth': max_depth,\n",
    "               'min_samples_split': min_samples_split,\n",
    "               'min_samples_leaf': min_samples_leaf,\n",
    "               'bootstrap': bootstrap}\n",
    "\n",
    "pprint(random_grid)\n"
   ]
  },
  {
   "cell_type": "code",
   "execution_count": 83,
   "metadata": {},
   "outputs": [
    {
     "name": "stdout",
     "output_type": "stream",
     "text": [
      "Parameters of RF:\n",
      "\n",
      "{'bootstrap': True,\n",
      " 'ccp_alpha': 0.0,\n",
      " 'class_weight': None,\n",
      " 'criterion': 'gini',\n",
      " 'max_depth': None,\n",
      " 'max_features': 'sqrt',\n",
      " 'max_leaf_nodes': None,\n",
      " 'max_samples': None,\n",
      " 'min_impurity_decrease': 0.0,\n",
      " 'min_samples_leaf': 1,\n",
      " 'min_samples_split': 2,\n",
      " 'min_weight_fraction_leaf': 0.0,\n",
      " 'n_estimators': 100,\n",
      " 'n_jobs': None,\n",
      " 'oob_score': False,\n",
      " 'random_state': 42,\n",
      " 'verbose': 0,\n",
      " 'warm_start': False}\n",
      "Fitting 3 folds for each of 100 candidates, totalling 300 fits\n",
      "BEST PARAMS RF:\n",
      "\n",
      "{'n_estimators': 100, 'min_samples_split': 5, 'min_samples_leaf': 6, 'max_features': 'auto', 'max_depth': 190, 'bootstrap': True}\n",
      "Model Performance\n",
      "Accuracy = 48.94%.\n",
      "Model Performance\n",
      "Accuracy = 55.32%.\n",
      "Improvement of 13.04%.\n"
     ]
    },
    {
     "name": "stderr",
     "output_type": "stream",
     "text": [
      "c:\\Users\\Erick\\AppData\\Local\\Programs\\Python\\Python311\\Lib\\site-packages\\sklearn\\ensemble\\_forest.py:427: FutureWarning: `max_features='auto'` has been deprecated in 1.1 and will be removed in 1.3. To keep the past behaviour, explicitly set `max_features='sqrt'` or remove this parameter as it is also the default value for RandomForestClassifiers and ExtraTreesClassifiers.\n",
      "  warn(\n"
     ]
    }
   ],
   "source": [
    "# Use the random grid to search for best hyperparameters\n",
    "# First create the base model to tune\n",
    "rf = RandomForestClassifier(random_state = 42)\n",
    "\n",
    "print(\"Parameters of RF:\\n\")\n",
    "pprint(rf.get_params())\n",
    "# Random search of parameters, using 3 fold cross validation, \n",
    "# search across 100 different combinations, and use all available cores\n",
    "rf_random = RandomizedSearchCV(estimator=rf, param_distributions=random_grid,\n",
    "                              n_iter = 100, scoring='neg_mean_absolute_error', \n",
    "                              cv = 3, verbose=2, random_state=42, n_jobs=2,\n",
    "                              return_train_score=True)\n",
    "\n",
    "# Fit the random search model\n",
    "rf_random.fit(X_train, y_train);\n",
    "\n",
    "print(\"BEST PARAMS RF:\\n\")\n",
    "print(rf_random.best_params_)\n",
    "\n",
    "def evaluate(model, test_features, test_labels):\n",
    "    predictions = model.predict(test_features)\n",
    "    accuracy = accuracy_score(y_true = test_labels, y_pred = predictions)\n",
    "    print('Model Performance')\n",
    "    print('Accuracy = {:0.2f}%.'.format(accuracy*100))\n",
    "    \n",
    "    return accuracy\n",
    "\n",
    "# Evaluate base model\n",
    "base_model = RandomForestClassifier(n_estimators = 10, random_state = 42)\n",
    "base_model.fit(X_train, y_train)\n",
    "base_accuracy = evaluate(base_model, X_test, y_test)\n",
    "\n",
    "# Evaluate random search model\n",
    "best_random = rf_random.best_estimator_\n",
    "random_accuracy = evaluate(best_random, X_test, y_test)\n",
    "\n",
    "print('Improvement of {:0.2f}%.'.format( 100 * (random_accuracy - base_accuracy) / base_accuracy))"
   ]
  },
  {
   "cell_type": "code",
   "execution_count": 87,
   "metadata": {},
   "outputs": [
    {
     "name": "stderr",
     "output_type": "stream",
     "text": [
      "c:\\Users\\Erick\\AppData\\Local\\Programs\\Python\\Python311\\Lib\\site-packages\\sklearn\\ensemble\\_forest.py:427: FutureWarning: `max_features='auto'` has been deprecated in 1.1 and will be removed in 1.3. To keep the past behaviour, explicitly set `max_features='sqrt'` or remove this parameter as it is also the default value for RandomForestClassifiers and ExtraTreesClassifiers.\n",
      "  warn(\n"
     ]
    },
    {
     "name": "stdout",
     "output_type": "stream",
     "text": [
      "--------------------------------------------------\n",
      "Resultados del entrenamiento: 0\n",
      "Macro avg - F1-score: 0.4722\n"
     ]
    },
    {
     "name": "stderr",
     "output_type": "stream",
     "text": [
      "c:\\Users\\Erick\\AppData\\Local\\Programs\\Python\\Python311\\Lib\\site-packages\\sklearn\\ensemble\\_forest.py:427: FutureWarning: `max_features='auto'` has been deprecated in 1.1 and will be removed in 1.3. To keep the past behaviour, explicitly set `max_features='sqrt'` or remove this parameter as it is also the default value for RandomForestClassifiers and ExtraTreesClassifiers.\n",
      "  warn(\n"
     ]
    },
    {
     "name": "stdout",
     "output_type": "stream",
     "text": [
      "--------------------------------------------------\n",
      "Resultados del entrenamiento: 1\n",
      "Macro avg - F1-score: 0.7339\n"
     ]
    },
    {
     "name": "stderr",
     "output_type": "stream",
     "text": [
      "c:\\Users\\Erick\\AppData\\Local\\Programs\\Python\\Python311\\Lib\\site-packages\\sklearn\\ensemble\\_forest.py:427: FutureWarning: `max_features='auto'` has been deprecated in 1.1 and will be removed in 1.3. To keep the past behaviour, explicitly set `max_features='sqrt'` or remove this parameter as it is also the default value for RandomForestClassifiers and ExtraTreesClassifiers.\n",
      "  warn(\n"
     ]
    },
    {
     "name": "stdout",
     "output_type": "stream",
     "text": [
      "--------------------------------------------------\n",
      "Resultados del entrenamiento: 2\n",
      "Macro avg - F1-score: 0.5128\n"
     ]
    },
    {
     "name": "stderr",
     "output_type": "stream",
     "text": [
      "c:\\Users\\Erick\\AppData\\Local\\Programs\\Python\\Python311\\Lib\\site-packages\\sklearn\\ensemble\\_forest.py:427: FutureWarning: `max_features='auto'` has been deprecated in 1.1 and will be removed in 1.3. To keep the past behaviour, explicitly set `max_features='sqrt'` or remove this parameter as it is also the default value for RandomForestClassifiers and ExtraTreesClassifiers.\n",
      "  warn(\n"
     ]
    },
    {
     "name": "stdout",
     "output_type": "stream",
     "text": [
      "--------------------------------------------------\n",
      "Resultados del entrenamiento: 3\n",
      "Macro avg - F1-score: 0.4722\n"
     ]
    },
    {
     "name": "stderr",
     "output_type": "stream",
     "text": [
      "c:\\Users\\Erick\\AppData\\Local\\Programs\\Python\\Python311\\Lib\\site-packages\\sklearn\\ensemble\\_forest.py:427: FutureWarning: `max_features='auto'` has been deprecated in 1.1 and will be removed in 1.3. To keep the past behaviour, explicitly set `max_features='sqrt'` or remove this parameter as it is also the default value for RandomForestClassifiers and ExtraTreesClassifiers.\n",
      "  warn(\n"
     ]
    },
    {
     "name": "stdout",
     "output_type": "stream",
     "text": [
      "--------------------------------------------------\n",
      "Resultados del entrenamiento: 4\n",
      "Macro avg - F1-score: 0.5682\n"
     ]
    },
    {
     "name": "stderr",
     "output_type": "stream",
     "text": [
      "c:\\Users\\Erick\\AppData\\Local\\Programs\\Python\\Python311\\Lib\\site-packages\\sklearn\\ensemble\\_forest.py:427: FutureWarning: `max_features='auto'` has been deprecated in 1.1 and will be removed in 1.3. To keep the past behaviour, explicitly set `max_features='sqrt'` or remove this parameter as it is also the default value for RandomForestClassifiers and ExtraTreesClassifiers.\n",
      "  warn(\n"
     ]
    },
    {
     "name": "stdout",
     "output_type": "stream",
     "text": [
      "--------------------------------------------------\n",
      "Resultados del entrenamiento: 5\n",
      "Macro avg - F1-score: 0.6275\n"
     ]
    },
    {
     "name": "stderr",
     "output_type": "stream",
     "text": [
      "c:\\Users\\Erick\\AppData\\Local\\Programs\\Python\\Python311\\Lib\\site-packages\\sklearn\\ensemble\\_forest.py:427: FutureWarning: `max_features='auto'` has been deprecated in 1.1 and will be removed in 1.3. To keep the past behaviour, explicitly set `max_features='sqrt'` or remove this parameter as it is also the default value for RandomForestClassifiers and ExtraTreesClassifiers.\n",
      "  warn(\n"
     ]
    },
    {
     "name": "stdout",
     "output_type": "stream",
     "text": [
      "--------------------------------------------------\n",
      "Resultados del entrenamiento: 6\n",
      "Macro avg - F1-score: 0.2571\n"
     ]
    },
    {
     "name": "stderr",
     "output_type": "stream",
     "text": [
      "c:\\Users\\Erick\\AppData\\Local\\Programs\\Python\\Python311\\Lib\\site-packages\\sklearn\\ensemble\\_forest.py:427: FutureWarning: `max_features='auto'` has been deprecated in 1.1 and will be removed in 1.3. To keep the past behaviour, explicitly set `max_features='sqrt'` or remove this parameter as it is also the default value for RandomForestClassifiers and ExtraTreesClassifiers.\n",
      "  warn(\n"
     ]
    },
    {
     "name": "stdout",
     "output_type": "stream",
     "text": [
      "--------------------------------------------------\n",
      "Resultados del entrenamiento: 7\n",
      "Macro avg - F1-score: 0.6494\n"
     ]
    },
    {
     "name": "stderr",
     "output_type": "stream",
     "text": [
      "c:\\Users\\Erick\\AppData\\Local\\Programs\\Python\\Python311\\Lib\\site-packages\\sklearn\\ensemble\\_forest.py:427: FutureWarning: `max_features='auto'` has been deprecated in 1.1 and will be removed in 1.3. To keep the past behaviour, explicitly set `max_features='sqrt'` or remove this parameter as it is also the default value for RandomForestClassifiers and ExtraTreesClassifiers.\n",
      "  warn(\n"
     ]
    },
    {
     "name": "stdout",
     "output_type": "stream",
     "text": [
      "--------------------------------------------------\n",
      "Resultados del entrenamiento: 8\n",
      "Macro avg - F1-score: 0.55\n"
     ]
    },
    {
     "name": "stderr",
     "output_type": "stream",
     "text": [
      "c:\\Users\\Erick\\AppData\\Local\\Programs\\Python\\Python311\\Lib\\site-packages\\sklearn\\ensemble\\_forest.py:427: FutureWarning: `max_features='auto'` has been deprecated in 1.1 and will be removed in 1.3. To keep the past behaviour, explicitly set `max_features='sqrt'` or remove this parameter as it is also the default value for RandomForestClassifiers and ExtraTreesClassifiers.\n",
      "  warn(\n"
     ]
    },
    {
     "name": "stdout",
     "output_type": "stream",
     "text": [
      "--------------------------------------------------\n",
      "Resultados del entrenamiento: 9\n",
      "Macro avg - F1-score: 0.6099\n",
      "F1 medio:  0.5453191940498442\n",
      "RANDOM FOREST EVALUATION\n",
      "Using model with F1 = 0.7338935574229692\n",
      "              precision    recall  f1-score   support\n",
      "\n",
      "           0       0.59      0.76      0.67        25\n",
      "           1       0.60      0.41      0.49        22\n",
      "\n",
      "    accuracy                           0.60        47\n",
      "   macro avg       0.60      0.58      0.58        47\n",
      "weighted avg       0.60      0.60      0.58        47\n",
      "\n"
     ]
    }
   ],
   "source": [
    "# Validacion cruzada\n",
    "\n",
    "kf = KFold(n_splits = 10)\n",
    "CLF_rf = []\n",
    "f1_rf = []\n",
    "for train_idx, val_idx in kf.split(X_train):\n",
    "\n",
    "    # Conjuntos de entrenamiento y validacion\n",
    "    X_train_kf, y_train_kf = X_train[train_idx], y_train[train_idx]\n",
    "    X_val, y_val = X_train[val_idx], y_train[val_idx]\n",
    "\n",
    "    # Random Forest\n",
    "    clf = RandomForestClassifier(n_estimators = rf_random.best_params_[\"n_estimators\"],\n",
    "                                 min_samples_split = rf_random.best_params_[\"min_samples_leaf\"],\n",
    "                                 min_samples_leaf = rf_random.best_params_[\"min_samples_leaf\"],\n",
    "                                max_features = rf_random.best_params_[\"max_features\"],\n",
    "                                max_depth = rf_random.best_params_[\"max_depth\"],\n",
    "                                bootstrap = rf_random.best_params_[\"bootstrap\"]).fit(X_train_kf, y_train_kf)\n",
    "\n",
    "    # Predicciones\n",
    "    y_pred = clf.predict(X_val)\n",
    "\n",
    "    CLF_rf.append(clf)\n",
    "\n",
    "    print(\"-\"*50)\n",
    "    print(\"Resultados del entrenamiento:\", len(CLF_rf)-1)\n",
    "    report = classification_report(y_val, y_pred, digits = 4, output_dict = True)\n",
    "    f1 = report[\"macro avg\"][\"f1-score\"]\n",
    "    f1_rf.append(f1)\n",
    "    print(\"Macro avg - F1-score:\", round(f1, 4))\n",
    "\n",
    "# Media total \n",
    "print(\"F1 medio: \", mean(f1_rf))\n",
    "\n",
    "\n",
    "# Evaluacion final\n",
    "y_pred_final = CLF_rf[f1_rf.index(max(f1_rf))].predict(X_test)\n",
    "print(f\"RANDOM FOREST EVALUATION\\nUsing model with F1 = {max(f1_rf)}\")\n",
    "print(classification_report(y_test, y_pred_final))"
   ]
  },
  {
   "cell_type": "code",
   "execution_count": 18,
   "metadata": {},
   "outputs": [],
   "source": [
    "# Guardar modelo\n",
    "pickle.dump(CLF_rf[0], open(\"../models/rf_90acc.sav\", \"wb\"))"
   ]
  }
 ],
 "metadata": {
  "kernelspec": {
   "display_name": "Python 3",
   "language": "python",
   "name": "python3"
  },
  "language_info": {
   "codemirror_mode": {
    "name": "ipython",
    "version": 3
   },
   "file_extension": ".py",
   "mimetype": "text/x-python",
   "name": "python",
   "nbconvert_exporter": "python",
   "pygments_lexer": "ipython3",
   "version": "3.11.2"
  },
  "orig_nbformat": 4
 },
 "nbformat": 4,
 "nbformat_minor": 2
}
